{
 "cells": [
  {
   "cell_type": "markdown",
   "id": "7e1aa208-4adb-4d5a-94a7-fc8794f07fbb",
   "metadata": {},
   "source": [
    "<div class=\"alert alert-block alert-success\" style=\"color:black\">\n",
    "    <h1>Self-Checker Notebook: workbook3</h1>\n",
    "<p> When you have completed workbook3 it should produce a file called <code>student_wb3.py</code> in the folder <code>studentcode</code></p>\n",
    "    <p>Run the code cells in notebook to check your code for syntax errors <b>before you submit to the marking server</b></p>\n",
    "    <p> This will help you avoid wasting submission attemopts</p>\n",
    "</div>"
   ]
  },
  {
   "cell_type": "markdown",
   "id": "b2e73fe5-a3b6-4375-8fe6-05dda63f59c3",
   "metadata": {},
   "source": [
    "### Run next cell to set up code imports"
   ]
  },
  {
   "cell_type": "code",
   "execution_count": null,
   "id": "c3159e46-d8af-4c4c-a3f9-c9de4a973efc",
   "metadata": {},
   "outputs": [],
   "source": [
    "#import your code\n",
    "from sys import path\n",
    "\n",
    "\n",
    "# telling python where to find the checking code things\n",
    "for directory in (\"../common\", \"studentcode\"):\n",
    "    if directory not in path:\n",
    "        path.append(directory)\n",
    "\n",
    "# functions common to all these notebooks\n",
    "import importcheck \n",
    "from bannedwords import check_for_banned_words\n",
    "\n",
    "# things specific to this notebook\n",
    "from approvedimports import *\n",
    "from mazenodisplay import Maze\n",
    "from wb3_selfcheck import *\n",
    "\n"
   ]
  },
  {
   "cell_type": "markdown",
   "id": "17aa278f-4752-4af8-9788-3d4744c75622",
   "metadata": {},
   "source": [
    "## Run this cell to check for syntax errors that could prevent your code from being imported \n",
    "<div style=\"background:lightblue\"><h3>There's no point moving on until your code passes this check.</h3></div>"
   ]
  },
  {
   "cell_type": "code",
   "execution_count": null,
   "id": "3423498f-5d84-4a2d-bc4c-91fdac94f45a",
   "metadata": {},
   "outputs": [],
   "source": [
    "ok, message = importcheck.check_code_syntax(\"student_wb3\")\n",
    "if(ok):\n",
    "    print('Syntax seems to be ok')\n",
    "else:\n",
    "    print(message)"
   ]
  },
  {
   "cell_type": "markdown",
   "id": "077e434f-08c3-4c70-a4a7-0ded8efce4a2",
   "metadata": {},
   "source": [
    "## Run this cell to check all the required functions are present in your file\n",
    "- This cell will check whether your code contains all the required functions.\n",
    "\n",
    "- You may, if you wish, submit without attempting all the marked activities.\n",
    "\n",
    "- However, ** those functions need to be present**.\n",
    "\n",
    "- So you still need to run the cells that write the incomplete *boilerplate* code to your file"
   ]
  },
  {
   "cell_type": "code",
   "execution_count": null,
   "id": "7c83d0b4-3581-472f-b996-ed5c3d61ed4a",
   "metadata": {},
   "outputs": [],
   "source": [
    "thename= 'student_wb3'\n",
    "funcs= ['DepthFirstSearch',\n",
    "                 'BreadthFirstSearch',\n",
    "                 'BestFirstSearch',\n",
    "                 'AStarSearch',\n",
    "                 'create_maze_breaks_depthfirst', \n",
    "                 'create_maze_depth_better'\n",
    "       ]\n",
    "\n",
    "for funcname in funcs:\n",
    "    ok, message=importcheck.test_for_presence(thename,funcname)\n",
    "    print(message)"
   ]
  },
  {
   "cell_type": "markdown",
   "id": "9ea7d29f-9b8d-4926-9a43-877b966b33b3",
   "metadata": {},
   "source": [
    "## Run the next cell to check for banned words\n",
    "<div style=\"background:lightpink\"><h3>The System will refuse to accept your code if banned words are present</h3></div>"
   ]
  },
  {
   "cell_type": "code",
   "execution_count": null,
   "id": "8be18e65-a8b5-4f36-9e83-4a66b2d26ba4",
   "metadata": {},
   "outputs": [],
   "source": [
    "check_for_banned_words(\"studentcode/student_wb3.py\")"
   ]
  },
  {
   "cell_type": "markdown",
   "id": "59af69f3-3365-4443-b826-11de97e4170f",
   "metadata": {},
   "source": [
    "### Run this last cell to test how your code behaves\n",
    "\n",
    "For self checking, the scores for each of your functions are as follows:\n",
    "- 2 if it runs ok and produces the correct result for a single test case.\n",
    "- 1 if it runs ok but produces the incorrect result for a single test case.\n",
    "- 0 if it does not run with our testing code.\n",
    "\n",
    "The marking server uses different (and more) test cases."
   ]
  },
  {
   "cell_type": "code",
   "execution_count": null,
   "id": "9d6fe302-22b1-469d-a770-0821879ef320",
   "metadata": {},
   "outputs": [],
   "source": [
    "score,feedback= MarkingFunction(\"student_wb3.py\")\n",
    "\n",
    "print(f'Your code scores {score} out of 12 on the self checker')\n",
    "\n",
    "from IPython.display import display, HTML\n",
    "display(HTML(feedback))"
   ]
  },
  {
   "cell_type": "code",
   "execution_count": null,
   "id": "508982f0-fa75-40ed-9faf-e06ad465f2d0",
   "metadata": {},
   "outputs": [],
   "source": []
  }
 ],
 "metadata": {
  "kernelspec": {
   "display_name": "aienv",
   "language": "python",
   "name": "aienv"
  },
  "language_info": {
   "codemirror_mode": {
    "name": "ipython",
    "version": 3
   },
   "file_extension": ".py",
   "mimetype": "text/x-python",
   "name": "python",
   "nbconvert_exporter": "python",
   "pygments_lexer": "ipython3",
   "version": "3.11.13"
  }
 },
 "nbformat": 4,
 "nbformat_minor": 5
}
