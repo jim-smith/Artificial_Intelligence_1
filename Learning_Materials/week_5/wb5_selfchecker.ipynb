{
 "cells": [
  {
   "cell_type": "markdown",
   "metadata": {},
   "source": [
    "# Portfolio part 3 (workbook 5) Self-Checker\n",
    "\n",
    "This notebook is designed to stream line the process of checking and improving the  assessed activity from workbook 5.\n",
    "\n",
    "It is specifically designed to:\n",
    "\n",
    "reduce frustration that happens when the marking system rejects or will not run your code.\n",
    "maximise your opportunities for getting useful feedback\n",
    "We strongly recommend that you use this to test your code prior to submission rather than waste any attempts on code that would fail to run on the marking server.\n",
    "\n",
    "How to use:\n",
    "\n",
    "- work through this notebook making sure you run all the cell\n",
    "- copy and paste your code into the cells indicated.\n",
    "- when you run these cells will write your code into a file 'clusterandvisualise.py'\n",
    "- afterwards cells will import your code back into the notebook and run the same code that is present on the marking server.\n",
    "- **Please note**: Although the code is the same, the datasets used to test your workflow may be different on the marking server\n",
    "\n",
    "When you are happy with your work, we recommend that you\n",
    "\n",
    "1. Select 'kernel-> restart kernel and clear all outputs' from the top menu\n",
    "2. Run all the cells in order, making sure all the outputs are ok.\n",
    "3. Download the file *studentcode/student_wb5* (which contains your function ```clusterandvisualise```) ready for submission.\n",
    "4. The next cell creates a set of standard imports that provide all the functionality you need, and writes them to file so you can do a single import"
   ]
  },
  {
   "cell_type": "markdown",
   "metadata": {},
   "source": [
    "## Marking scheme for your visualisation\n",
    "| Mark         | 0                                                                      | 10                                                                                                                      | 20                                                                                                                     | 30                                                                                                                                       | 40                                                                                                                   | 50                                                                                                                                                                      |\n",
    "|--------------|------------------------------------------------------------------------|-------------------------------------------------------------------------------------------------------------------------|------------------------------------------------------------------------------------------------------------------------|------------------------------------------------------------------------------------------------------------------------------------------|----------------------------------------------------------------------------------------------------------------------|-------------------------------------------------------------------------------------------------------------------------------------------------------------------------|\n",
    "| Content      | Code does not run  OR  no image file produced, OR  image file is empty | Basic scatter plot of two features. Data not coloured by clusters.                                                      | Basic scatter-plot only showing two features.    Some different colours for data markers but no evidence of clustering |  Matrix of scatterplots for different combinations of features.    Some different colours for data markers but no evidence of clustering |  Matrix of scatter-plots for different combinations of features.    Marker colours show appropriate     clusters.    |  Matrix of scatter-plots for different combinations of features.    Diagonals in matrix show histogram plots for variables  Marker colours show appropriate    clusters |\n",
    "| Presentation | Code does not run  OR  no image file produced, OR  image file is empty | No figure title or labels on axes  OR  Plot is not appropriate size  OR  Data markers are not visible and suitable size |  Appropriate figure title    OR  feature names used to label axes, but not both                                        |  Appropriate figure title    AND  feature names used to label axes                                                                       |  Clearly differentiated markers display data with assignment to clusters. Appropriate figure title  and axis labels. |  Well presented fully self-explanatory visualisation with good use of colour and marker styles and sizes.                                                               |"
   ]
  },
  {
   "cell_type": "markdown",
   "metadata": {},
   "source": [
    "<div class=\"alert alert-block alert-info\" style=\"color:black\"><h2>Activity 4: Creating a general cluster and visualise function</h2>\n",
    "    <h3><b>100 marks</b> - using the marking scheme below</h3>\n",
    "    This activity brings all of the previous activities and code together to create a general function for clustering and visualising data.<br><br>\n",
    "    You are provided with a <code>cluster_and_visualise()</code> function definition. It has 3 arguments:\n",
    "    <ol>\n",
    "        <li><code>datafile_name</code> - A path to a file which contains the data that should be clustered with K-means.</li>\n",
    "        <li><code>K</code> - The number of clusters to use with K-means.</li>\n",
    "        <li><code>feature_names</code> - A list of feature names in the data, for labelling the plots.</li>\n",
    "    </ol>\n",
    "    <br>\n",
    "    Your task is to complete this function so that it:\n",
    "    <ol>\n",
    "        <li>Reads in a dataset from a file. You should use <code>numpy.genfromtxt()</code> for this.</li>\n",
    "        <li>Runs K-means on the data to get a set of  cluster labels for the data points.</li>\n",
    "        <li>Create a 2D visualisation of the results with:\n",
    "            <ul>\n",
    "                <li>A title that <b>must</b> include your UWE username and number of clusters e.g. <i>'Visualisation of 4 clusters by j4-smith'</i>.<br>\n",
    "                The number of clusters should be shown as a number separated by white space (e.g. <i>' 4 clusters'</i> not <i>'4clusters'</i> or <i>' four clusters'</i>).<br>\n",
    "                    You will not know the number of clusters in advance so will have to create your title in your code using the value of K. </li>\n",
    "                <li>Labels for the axes.</li>\n",
    "                <li>Different colour markers for each cluster.</li>\n",
    "            </ul>\n",
    "        </li>\n",
    "        <li>Write the visualisation to a file called <i>'myVisualisation.jpg'</i></li>\n",
    "    </ol>\n",
    "    <b>How to get started:</b>\n",
    "    <ol>\n",
    "        <li>Read the <a href\"https://numpy.org/doc/stable/reference/generated/numpy.genfromtxt.html\">documentation</a> on <code>numpy.genfromtxt()</code> and write some code (1 line) to read in the file from the parameter <code>datafile_name</code>.</li>\n",
    "        <li>Put the code snippets from previous activities for clustering and creating visualisations into the function in the code cell below.</li>\n",
    "        <li>You can run the second cell below to self-assess your code and improve it according to the marking scheme below.</li>\n",
    "        <li><b>Do not</b> change the method definition<code> def cluster_and_visualise(datafile_name:string, K:int, feature_names:list):</code> and your code <b>must</b> return the matplotlib fig and axs objects.</li>\n",
    "    </ol>\n",
    "</div>"
   ]
  },
  {
   "cell_type": "markdown",
   "metadata": {},
   "source": [
    "<div class=\"alert alert-block alert-success\" style=\"color:black\">\n",
    "    <h3> Hints to going about this activity and using this notebook.</h3>\n",
    "    <p>This time the marking system will just expect you to submit a file called <i>student_wb5</i> which contains a single function<code>clusterandvisualise.py</code></p>\n",
    "    <p>Workbook 5 contains all the resources you need to complete that.<br>\n",
    "        In actitity4 there is a cell provided to edit your code in. When you run that cell it will save your code to file as needed.</p>\n",
    "    <p> <b> We recommend you develop your code in that workbook</b> (you can always have it open alongside this one)</p>\n",
    "    <p>Then use the code in this notebook to import your code and make sure it works 'standalone'</p></div>"
   ]
  },
  {
   "cell_type": "markdown",
   "metadata": {},
   "source": [
    "### Run next cell to set up code imports"
   ]
  },
  {
   "cell_type": "code",
   "execution_count": null,
   "metadata": {},
   "outputs": [],
   "source": [
    "#import your code\n",
    "from sys import path\n",
    "\n",
    "\n",
    "# telling python where to find the checking code things\n",
    "for directory in (\"../common\", \"studentcode\"):\n",
    "    if directory not in path:\n",
    "        path.append(directory)\n",
    "\n",
    "# functions common to all these notebooks\n",
    "import importcheck \n",
    "from bannedwords import check_for_banned_words\n",
    "\n",
    "# things specific to this notebook\n",
    "from approvedimports import *\n",
    "from mazenodisplay import Maze\n",
    "from wb5_selfcheck import *\n",
    "\n"
   ]
  },
  {
   "cell_type": "markdown",
   "metadata": {},
   "source": [
    "## Run this cell to check for syntax errors that could prevent your code from being imported \n",
    "<div style=\"background:lightblue\"><h3>There's no point moving on until your code passes this check.</h3></div>"
   ]
  },
  {
   "cell_type": "code",
   "execution_count": null,
   "metadata": {},
   "outputs": [],
   "source": [
    "ok, message = importcheck.check_code_syntax(\"student_wb5\")\n",
    "if(ok):\n",
    "    print('Syntax seems to be ok')\n",
    "else:\n",
    "    print(message)"
   ]
  },
  {
   "cell_type": "markdown",
   "metadata": {},
   "source": [
    "## Run this cell to check all the required functions are present in your file\n",
    "- This cell will check whether your code contains all the required functions.\n",
    "\n",
    "- You may, if you wish, submit without attempting all the marked activities.\n",
    "\n",
    "- However, ** those functions need to be present**.\n",
    "\n",
    "- So you still need to run the cells that write the incomplete *boilerplate* code to your file"
   ]
  },
  {
   "cell_type": "code",
   "execution_count": null,
   "metadata": {},
   "outputs": [],
   "source": [
    "ok, message=importcheck.test_for_presence(\"student_wb5\",'cluster_and_visualise')\n",
    "print(message)"
   ]
  },
  {
   "cell_type": "markdown",
   "metadata": {},
   "source": [
    "## Run the next cell to check for banned words\n",
    "<div style=\"background:lightpink\"><h3>The System will refuse to accept your code if banned words are present</h3></div>"
   ]
  },
  {
   "cell_type": "code",
   "execution_count": null,
   "metadata": {},
   "outputs": [],
   "source": [
    "check_for_banned_words(\"studentcode/student_wb5.py\")"
   ]
  },
  {
   "cell_type": "markdown",
   "metadata": {},
   "source": [
    "### Run the cell below to test your code\n",
    "-  remember to change the name below from ```myname='j4-smith'``` to use your user name\n",
    "-  You can edit your code file then reun this cell to tweak the visualisation contents\n",
    "\n",
    "<div style=\"background:lightgrey\"><p> Remember that:<ol>\n",
    "    <li>The data set on the marking server has a different number of features.<br>\n",
    "    This means your code should:<ul>\n",
    "        <li> Query the <code>shape</code> of the data to see how many columns (features) it has.</li>\n",
    "        <li> Set your visualisation to dispay all of the combinations of features</li>\n",
    "    </ul>\n",
    "        <li> You will not know in advance how many clusters you are asked to find and dispaly.</li></ol></div>"
   ]
  },
  {
   "cell_type": "code",
   "execution_count": null,
   "metadata": {},
   "outputs": [],
   "source": [
    "# message handling code\n",
    "from err_msg import processError\n",
    "\n",
    "# import your code so you can edit your code file then rerun this cell without sretarting the kernel\n",
    "from importlib import reload\n",
    "import studentcode.student_wb5  #works first time you run the cell\n",
    "reload (studentcode.student_wb5) #works on subsequent runs of the cell\n",
    "from studentcode.student_wb5 import cluster_and_visualise\n",
    "\n",
    "\n",
    "myname='j4-smith' #<==change this\n",
    "datafile= '../common/wb5_visdata.csv'\n",
    "feature_names= (\"a\",\"b\",\"c\",\"d\")\n",
    "\n",
    "K=2\n",
    "\n",
    "score=0\n",
    "message = \"\"\n",
    "\n",
    "try:\n",
    "    score, message= check_visualisation(cluster_and_visualise,datafile,K,feature_names,student_name=myname)\n",
    "except Exception as e:\n",
    "    message= processError(e, func=cluster_and_visualise) \n",
    "\n",
    "\n",
    "print(f'you score { score}')\n",
    "print('feedback is:')\n",
    "print(f'{message}')"
   ]
  }
 ],
 "metadata": {
  "kernelspec": {
   "display_name": "aienv",
   "language": "python",
   "name": "aienv"
  },
  "language_info": {
   "codemirror_mode": {
    "name": "ipython",
    "version": 3
   },
   "file_extension": ".py",
   "mimetype": "text/x-python",
   "name": "python",
   "nbconvert_exporter": "python",
   "pygments_lexer": "ipython3",
   "version": "3.11.13"
  }
 },
 "nbformat": 4,
 "nbformat_minor": 4
}
