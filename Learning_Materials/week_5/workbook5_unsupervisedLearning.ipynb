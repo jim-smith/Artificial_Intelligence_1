{
 "cells": [
  {
   "cell_type": "markdown",
   "metadata": {},
   "source": [
    "# Artificial Intelligence 1 Week 5 Practical\n",
    "### Goals\n",
    "This session is designed to give you experience of:\n",
    "- loading an unlabelled dataset in python\n",
    "- creating 'Data Visualisations' --such as 2D and 3D scatter plots with different colourings to examine the relationships between the values of different features\n",
    "     in your data set\n",
    "- running the unsupervised clustering algorithm 'k-Means' and examining the effect of different settings for parameters such as the number of clusters\n",
    "    \n",
    "\n",
    "### By the end of this session you should have\n",
    "\n",
    "- Understood how to go about visualising a new data set\n",
    "- Understood how to find clusters - if they exist - in your data.\n",
    "- Understood the importance of selecting and applying suitable  data preprocessing methods\n",
    "\n",
    "### Before next week you should have\n",
    "- Completed the exercises below for the Iris dataset\n",
    "- Expanded the domain-specific knowledge contents of your revision bot with definitions and examples for all the other key concepts covered so far.\n",
    "\n",
    "### Additional Resources\n",
    "- **Seaborn** is a richer library you can import into notebooks for easily making visualisations. Try looking at the example gallery from here: https://seaborn.pydata.org\n",
    "         \n",
    "- There is lots of help available for producing plots in matplotlib - if in doubt, just google your error!\n",
    "\n",
    "- **plotly** is a fantastic toolkit for making really nice data visualisations where you can link different plots so they respond together as you zoom/pan/select different features to look at.\n",
    "  - You can install it locally and run within a notebook,  but this is probably too complex to go into in this module.\n",
    "  - but you can upload your data and create really nice visualisations here: https://chart-studio.plotly.com/create/#/\n",
    "\n",
    "<div class=\"alert alert-block alert-warning\", style= \"color:black\">\n",
    " <b>REMEMBER:</b> There is lots of help available for producing plots in matplotlib - and in fact with almost any python problem.  If in doubt, just google your error!</div>\n",
    "\n"
   ]
  },
  {
   "cell_type": "markdown",
   "metadata": {},
   "source": [
    "# Part 0 : Refresher on accessing data from  Python arrays\n",
    "<img src=\"slicing.png\" style=\"float:right\"><div class=\"alert alert-block alert-info\"> <b>ASIDE: Python arrays and slicing:</b> Python has a <b>numpy</b> module with lots of useful code for doing math, and creating and manipulating arrays of data <br>If we have a 2D numpy array X  we can select just parts of it - i.e. groups of rows, or colums, by \"slicing\". <br>  We specify the range of rows we want, then the range of columns using X[startRow: endRow, startCol: endCol] <br>\n",
    "    <ul>\n",
    "        <li><b>the endRow and endCol are not included in the slice.</b></li>\n",
    "    <li> If start or end are empty, then the slices goes right from the start or right to the end</li>\n",
    "    <li> if the start is empty and the end is negative, the slices comes from the end of the row/column</li>\n",
    "    </ul> \n",
    "<b>Example 1:</b>. If we put the letters of my name into a 1-D array  then we can pick out what we want as shown in the cell below. <br>\n",
    "<b>Example 2</b> (also in the cell below) If we have all the tutors names we could pick out just one row,  or the nth letter in all their names. <br><b>Example 3</b>, if (as in the iris data in this tutorial) X has 150 rows and 4 columns then:\n",
    " <ul>\n",
    "     <li> A = X[ 0 : 50 , :].  A is a 2d array containing the first 50 rows, and all 4 columns</li>\n",
    "     <li> B = X[ : , 3:].   B is a 1D array with 150 rows and  the columns 3 and onwards (in this case, it is just the last)<br>\n",
    "     <li> C = X[ 0: 2, 0:4] C is a 2D array with 3 rows and 4 columns <br></div>"
   ]
  },
  {
   "cell_type": "code",
   "execution_count": null,
   "metadata": {},
   "outputs": [],
   "source": [
    "import numpy as np\n",
    "\n",
    "#Example 1\n",
    "print('Declaring a 1d array')\n",
    "jimsName = np.array ( ['j','i','m',' ','s','m','i','t','h'])\n",
    "print(jimsName)\n",
    "print('extracting a range of values from a 1-D array:')\n",
    "print( jimsName[0:3])\n",
    "\n",
    "# Example 2\n",
    "print('\\n Declaring a  a 2D array:')\n",
    "tutorsNames = np.array([['j','i','m',' ','s','m','i','t','h',' ',' ',' '], \n",
    "                        ['c','h','r','i','s',' ','s','i','m','o','n','s'], \n",
    "                        ['n','a','t','h','a','n',' ','d','u','r','a','n']],dtype=str)\n",
    "print(tutorsNames)\n",
    "\n",
    "print('Extracting the a row from a 2D array - in this cas the second')\n",
    "print(tutorsNames[1, : ])   # every column of the second row\n",
    "\n",
    "print('Extracting a range of columns from every row of a 2D array')\n",
    "print(tutorsNames[ :, 1:5])\n",
    "\n",
    "# This example uses negative index to read from the end of a slice\n",
    "print('extracting a specific block of data from a 2D array')\n",
    "print(tutorsNames[2,-5:])"
   ]
  },
  {
   "cell_type": "markdown",
   "metadata": {},
   "source": [
    "<div class=\"alert alert-block alert-warning\", style= \"color:black\">\n",
    "    <h2> Part 1: Creating and adapting a simple data visualisation</h2>\n",
    "    Read through and run the following cells that describe the data set and make a basic scatter plot\n",
    "    </div>\n",
    "    "
   ]
  },
  {
   "cell_type": "markdown",
   "metadata": {},
   "source": [
    "## Get the data: in this case  a classic data set: Iris flowers <img src=\"../lectures/figures/ML/Iris-image.png\" style=\"float:right\">\n",
    "This is a classic Machine Learning Data set\n",
    "- 4 measurements (features): sepal and petal width and length\n",
    "- 50 examples  from each  sub-species for iris flowers\n",
    "- three class problem: Iris-Virginica, Iris-Setosa or Iris-Versicolor\n",
    "\n",
    "### For the purpose of this tutorial we are going to ignore the fact that we are provided with class labels\n",
    "\n",
    "**Run the next cell** to import some useful libraries and then load the iris dataset into two arrays\n",
    "- irisX (the features - 150 rows x 4 columns)\n",
    "- irisy (the class labels - we'll ignore these)\n",
    "\n",
    "We'll also make a list of the feature names so we can use them to label our plots."
   ]
  },
  {
   "cell_type": "code",
   "execution_count": null,
   "metadata": {
    "pycharm": {
     "name": "#%%\n"
    }
   },
   "outputs": [],
   "source": [
    "# load the data\n",
    "from sklearn.datasets import load_iris\n",
    "import numpy as np\n",
    "\n",
    "irisX, irisy = load_iris(return_X_y = True)\n",
    "\n",
    "feature_names = ['sepal width','sepal_length','petal_width','petal_length']\n",
    "\n",
    "# Print the first 5 rows of Iris data\n",
    "print(feature_names)\n",
    "print(irisX[:5])"
   ]
  },
  {
   "cell_type": "markdown",
   "metadata": {
    "pycharm": {
     "name": "#%% md\n"
    }
   },
   "source": [
    "## Now we will see how we can use the matplotlib library to create a scatter plot\n",
    "\n",
    "For this first plot we will just look at the first two features"
   ]
  },
  {
   "cell_type": "markdown",
   "metadata": {},
   "source": [
    "### We'll start by just using the first two features and creating a basic scatter plot"
   ]
  },
  {
   "cell_type": "code",
   "execution_count": null,
   "metadata": {},
   "outputs": [],
   "source": [
    "# select every row and just the first|second column into two 1-D arrays for the x and y axes\n",
    "#using  variables to say what features we want for the x- and y-axis of the plot so we can change these easily\n",
    "\n",
    "xaxis_feature = 0 \n",
    "yaxis_feature = 1\n",
    "\n",
    "x = irisX[:, xaxis_feature]\n",
    "y = irisX[:, yaxis_feature]\n",
    "\n",
    "# Print the first 5 rows of x and y values\n",
    "print(feature_names[xaxis_feature])\n",
    "print(x[:5])\n",
    "print(feature_names[yaxis_feature])\n",
    "print(y[:5])"
   ]
  },
  {
   "cell_type": "markdown",
   "metadata": {},
   "source": [
    "To do this we'll call matplotlib.pyplot to create a canvas (fig) with a single subplot on it.\n",
    "\n",
    "- Like most things in python, you can achieve the same effect in many different ways\n",
    "- There's a really good thread here: https://stackoverflow.com/questions/34162443/why-do-many-examples-use-fig-ax-plt-subplots-in-matplotlib-pyplot-python\n",
    "about why most people choose to do it this way.\n",
    "\n",
    "- As you'll see shortly,   you can use the same syntax to put multiple plots in a grid within one figure\n",
    "- briefly, its useful to be able to separate  'global' properties for the whole picture (size, title) and properties for each subplot via the ax properties (x/y axis labels, subtitles etc)\n"
   ]
  },
  {
   "cell_type": "code",
   "execution_count": null,
   "metadata": {},
   "outputs": [],
   "source": [
    "import matplotlib.pyplot as plt\n",
    "#%matplotlib inline\n",
    "\n",
    "fig,ax = plt.subplots()\n",
    "ax.scatter(x,y)"
   ]
  },
  {
   "cell_type": "markdown",
   "metadata": {},
   "source": [
    "### Now lets add some 'decoration' to the plot so it is more informative"
   ]
  },
  {
   "cell_type": "code",
   "execution_count": null,
   "metadata": {},
   "outputs": [],
   "source": [
    "fig,ax = plt.subplots()\n",
    "ax.scatter(x,y)\n",
    "## Lets start with a title\n",
    "title= fig.suptitle(\"Scatter Plot for Iris Data\", fontsize=10)\n",
    "\n",
    "# and add some axis labels: recall we stored these in the list \"feature_names\" in case they were useful\n",
    "ax.set_xlabel(feature_names[xaxis_feature], fontsize=10)\n",
    "ax.set_ylabel(feature_names[yaxis_feature], fontsize=10)"
   ]
  },
  {
   "cell_type": "markdown",
   "metadata": {
    "pycharm": {
     "name": "#%% md\n"
    }
   },
   "source": [
    "<div class = \"alert alert-warning\" style= \"color:black\">\n",
    "    <h2>Activity 1: Creating and formatting simple 2D visualisations</h2>\n",
    "    </div>\n",
    "\n",
    "<div class = \"alert alert-warning\" style= \"color:black\">\n",
    "    <h3>Activity 1.1: Editing the code to examine different combinations of features </h3>\n",
    "The cell below contains the all code used above to generate the scatter plot.<br>\n",
    " Note that  the code that sets the axis labels is no longer hard coded to the labels for features 0 and 1\n",
    "<ol>\n",
    "    <li> For each combination of values xaxis_feature/yaxis_feature in the range 0...3\n",
    "        <ul>\n",
    "            <li> <b>Edit</b> the first two lines so that the combination is selected, then</li>\n",
    "            <li><b>run</b> the changed version to examine the effect of looking at different combinations of variables (there are 12 altogether)</li>\n",
    "        </ul>\n",
    "    </li>\n",
    "    </li>\n",
    "    <li> Then <b>run</b> the cell below that to answer a question about the data</li>\n",
    "    </ol>        \n",
    "    </div>"
   ]
  },
  {
   "cell_type": "code",
   "execution_count": null,
   "metadata": {
    "pycharm": {
     "name": "#%%\n"
    }
   },
   "outputs": [],
   "source": [
    "# select the features to show\n",
    "xaxis_feature = 0\n",
    "yaxis_feature = 1\n",
    "x = irisX[:, xaxis_feature]\n",
    "y = irisX[:, yaxis_feature]\n",
    "\n",
    "#create the scatter plot\n",
    "fig,ax = plt.subplots()\n",
    "ax.scatter(x,y)\n",
    "## Lets start with a title\n",
    "title= fig.suptitle(\"Scatter Plot for Iris Data\", fontsize=10)\n",
    "\n",
    "# and add some axis labels: recall we stored these in the list \"feature_names\" in case they were useful\n",
    "ax.set_xlabel(feature_names[xaxis_feature], fontsize=10)\n",
    "ax.set_ylabel(feature_names[yaxis_feature], fontsize=10)"
   ]
  },
  {
   "cell_type": "code",
   "execution_count": null,
   "metadata": {},
   "outputs": [],
   "source": [
    "import workbook6_mcq\n",
    "from IPython.display import display\n",
    "\n",
    "display(workbook6_mcq.Q1)"
   ]
  },
  {
   "cell_type": "markdown",
   "metadata": {},
   "source": [
    "<div class = \"alert alert-warning\" style= \"color:black\">\n",
    "    <h3>Activity 1.2  Adding formatting to your plot and saving it to file</h3>\n",
    "    Follow stages 1-4 from the descriptionp below then answer the 3 multiple choice questions.\n",
    "    </div>"
   ]
  },
  {
   "cell_type": "markdown",
   "metadata": {},
   "source": [
    "This code example sets the overall title' for the figure object, and the axis-labels, and their font sizes\n",
    "1. **Change** the font-size of both to something more readable on your screen\n",
    "\n",
    "2. **Experiment** with setting the total figure size using:  \n",
    "  ```` fig.set_size_inches(10, 5)```` after you have created it via the call to subplots **or**   \n",
    "   ```` fix,ax = plt.subplots(figsize=(10, 5))```` at the time when you create it.  \n",
    "  You will probably want to change these numbers to something appropriate to your screen.  \n",
    "  *In practice you usually only use one of these methods.*\n",
    "  \n",
    "  \n",
    "3. **Experiment** with changing the marker  style, colour, and size. For example try changing:     \n",
    "    ```ax.scatter(x,y)``` to ```ax.scatter(x,y,c='red',marker = '^',s=10)```  \n",
    "   The default circle marker is 'o', try with other symbols such as: '.', 's', 'v', '+','x'\n",
    "\n",
    "\n",
    "4. When you are happy you have found a plot that displays the data well, **save your plot** by adding the command ```` fig.savefig(\"your_filename.png\")````\n",
    " - obviously change the filename to something more informative such as the names of the features you are displaying.  \n",
    "   The more confident of you might try to create the filename algorithmically within your code!\n",
    " -  pyplot supports saving in lots of different file formats (jpg, png,svg). \n",
    " -  and you can change things like the resolution (dpi)  \n",
    " -  See https://matplotlib.org/api/_as_gen/matplotlib.pyplot.savefig.html \n",
    "  "
   ]
  },
  {
   "cell_type": "code",
   "execution_count": null,
   "metadata": {},
   "outputs": [],
   "source": [
    "# edit the next two lines of  code  to choose a good combinations of features you found\n",
    "xaxis_feature = 0\n",
    "yaxis_feature = 1\n",
    "x = irisX[:, xaxis_feature: xaxis_feature+1]\n",
    "y = irisX[:, yaxis_feature: yaxis_feature+1]\n",
    "\n",
    "# experiment with these two ways of changing the size\n",
    "fig,ax = plt.subplots(figsize=(10,5))\n",
    "fig.set_size_inches(10,5)\n",
    "\n",
    "# exeriment with changing the colours and shapes of markers here\n",
    "ax.scatter(x,y)\n",
    "\n",
    "\n",
    "## useful information to display\n",
    "title= fig.suptitle(\"Scatter Plot for Iris Data\", fontsize=10)\n",
    "ax.set_xlabel(feature_names[xaxis_feature], fontsize=10)\n",
    "_=ax.set_ylabel(feature_names[yaxis_feature], fontsize=10)\n",
    "\n",
    "# when you're happy add the savefig command here"
   ]
  },
  {
   "cell_type": "markdown",
   "metadata": {},
   "source": [
    "### Answer these questions to check you understood the formatting"
   ]
  },
  {
   "cell_type": "code",
   "execution_count": null,
   "metadata": {},
   "outputs": [],
   "source": [
    "display(workbook6_mcq.Q2)\n",
    "display(workbook6_mcq.Q3)\n",
    "display(workbook6_mcq.Q4)"
   ]
  },
  {
   "cell_type": "markdown",
   "metadata": {},
   "source": [
    "## Making the visualisations Interactive\n",
    "\n",
    "One major advantage of jupyter notebooks is that we can use them to make interactive figures.\n",
    "Since we can also \"hide\" the code cells, and host notebooks,  \n",
    "that means we can make interactive presentations\n",
    "to distribute to other people.\n",
    "\n",
    "For now, we will focus on adding the ability to pan, zoom, rescale, and save changed figures to file with the click of a button.\n",
    "\n",
    "<img src = \"figures/matplotlibNoteBookInteractions.png\" style=\"float:right\" width=400>\n",
    "\n",
    "- The code in the cell below is a version of what you saw already with the exception of the  first line: ```%matplotlib notebook```.     \n",
    "- This is not  python it is a 'jupyter magic' command, and has to be at the top of a cell.    \n",
    "- It turns on  a jupyter feature  which lets us make interactive graphics.  \n",
    "\n",
    "-There's a nice [blog about interactive notebooks here](https://medium.com/@1522933668924/using-matplotlib-in-jupyter-notebooks-comparing-methods-and-some-tips-python-c38e85b40ba1) which is where I copied the image from"
   ]
  },
  {
   "cell_type": "markdown",
   "metadata": {},
   "source": [
    "<div class = \"alert alert-warning\" style= \"color:black\">\n",
    "    <h3>Activity 1.3: Using interactive visualisations</h3>\n",
    "    <b>Run</b> the code below and <b>experiment to discover</b> which buttons let you pan/zoom/resave/save to file. <br> \n",
    "Hint: If you have clicked on the button with 4 arrows, you should be able to move the whole viewpoint (pan)  \n",
    "and also 'rescale' (squeeze/expand) the data just along one axis \n",
    "  depending on whether you are using left/right mouse buttons (1 / 2 figure drags on a trackpad). <br> \n",
    "    <b>Note that you can only have one  interaction active at  a time, so when you are done, click on the blue exit button</b>\n",
    "    </div>"
   ]
  },
  {
   "cell_type": "code",
   "execution_count": null,
   "metadata": {},
   "outputs": [],
   "source": [
    "#%matplotlib notebook\n",
    "\n",
    "\n",
    "xaxis_feature = 0\n",
    "yaxis_feature = 1\n",
    "x = irisX[:, xaxis_feature: xaxis_feature+1]\n",
    "y = irisX[:, yaxis_feature: yaxis_feature+1]\n",
    "\n",
    "fig,ax = plt.subplots(figsize=(10,5))\n",
    "\n",
    "ax.scatter(x,y)\n",
    "\n",
    "\n",
    "## useful information to display\n",
    "title= fig.suptitle(\"Scatter Plot for Iris Data\", fontsize=10)\n",
    "ax.set_xlabel(feature_names[xaxis_feature], fontsize=10)\n",
    "ax.set_ylabel(feature_names[yaxis_feature], fontsize=10)"
   ]
  },
  {
   "cell_type": "markdown",
   "metadata": {},
   "source": [
    "<div class = \"alert alert-warning\" style= \"color:black\">\n",
    "    <h2>Part 2: Using the k-Means algorithm to discover clusters in the data</h2>\n",
    "    Work through the following cells to learn how to call and use sci-kit learn implementation of the k-means algorithm\n",
    "    </div>\n",
    "\n"
   ]
  },
  {
   "cell_type": "code",
   "execution_count": null,
   "metadata": {},
   "outputs": [],
   "source": [
    "# Example\n",
    "from sklearn.cluster import KMeans\n",
    "\n",
    "# in this case we will create a kMeans model that just looks for two clusters\n",
    "## call the constructor\n",
    "clusterModel = KMeans(n_clusters=2)\n",
    "\n",
    "## most of the ML models in sklearn provide both a fit() and a predict() method\n",
    "## in this case 'fitting' the model means finding the best cluster centres as described in the lecture\n",
    "clusterModel.fit(irisX)"
   ]
  },
  {
   "cell_type": "markdown",
   "metadata": {},
   "source": [
    "### Lets ask it what it found!\n",
    "\n",
    "When the model was fitted to our data it stores the cluster centres it found as an attribute, so we will start by printing that.\n",
    "- The outputs will be  a 2d numpy array with one row for each cluster centre, and one column for each variable\n",
    "- In this case, the Iris data has four features to represent each of the examples.\n",
    "- So each row represents the co-ordinates in 4-D space of one the cluster centres"
   ]
  },
  {
   "cell_type": "code",
   "execution_count": null,
   "metadata": {},
   "outputs": [],
   "source": [
    "print( f\" the fitted unsupervised models contains {clusterModel.n_clusters} clusters\")\n",
    "print(f\" The clusters centres are stored in a {type(clusterModel.cluster_centers_)} of shape {clusterModel.cluster_centers_.shape}\")\n",
    "print ( f'This is the contents of that array:\\n{clusterModel.cluster_centers_}' )\n",
    "\n"
   ]
  },
  {
   "cell_type": "markdown",
   "metadata": {},
   "source": [
    "Most classes of sklearn models implement a predict() method.  \n",
    "For KMeans, that  outputs the index of the nearest cluster center to each data point\n",
    "- So the next cell calls this method on our kMeans object, stores the result, then prints it out.\n",
    "- The output will be a list with one 'cluster-id' for each example in the data set.\n",
    "  - Thus if the Nth entry is a 0 it means that data item N has been assigned to (is  \"in\") cluster 0.\n",
    "  - Where the one whose centre was at row 0 when we listed the cluster centres just above."
   ]
  },
  {
   "cell_type": "code",
   "execution_count": null,
   "metadata": {},
   "outputs": [],
   "source": [
    "#first two lines are only here to show the whole workflow\n",
    "clusterModel = KMeans(n_clusters=2)\n",
    "clusterModel.fit(irisX)\n",
    "cluster_ids = clusterModel.predict(irisX)\n",
    "print(f'this is the cluster to which each data item has been assigned by the model:\\n{cluster_ids}') "
   ]
  },
  {
   "cell_type": "markdown",
   "metadata": {},
   "source": [
    "<div class = \"alert alert-warning\" style= \"color:black\">\n",
    "    <h2> Activity 2: Grouping and Visualising unlabelled  data using the kMeans Unsupervised Learning method </h2>\n",
    "    <br>This activity is typical of many AI/Data science workflows in python, because we are going to combine snippets of code from different places\n",
    "    </div>\n",
    "    \n",
    "<div class = \"alert alert-warning\" style= \"color:black\">\n",
    "    <h3> Activity 2.1: Using visualisations to determine how many clusters to use </h3>\n",
    "<ol>\n",
    "    <li> Combine  existing code to make a visualisation\n",
    "    <ul>\n",
    "        <li> <b>Copy</b> the clustering code from the cell above into the cell below</li>\n",
    "        <li>Then <b>add your visualisation code from Activity 1.2</b> to produce what you think is the most 'informative' scatter plot (the best pair of features)</li>\n",
    "        <li> <b>Change the call to the plotting function</b> from <code>ax.scatter(x,y)</code>   to <code>ax.scatter(x,y,c=cluster_ids)</code> <br>\n",
    "            so that it use a different colour marker for each cluster.</li>\n",
    "    </ul>\n",
    "    </li>  \n",
    "    <li> Change and rerun the code  to <b>investigate</b> what happens if you specify  2,3,4,5 clusters.\n",
    "    <li> Make a decision what number of clusters 'looks' a best fit to the data. </li>\n",
    "    </ol>\n",
    "    </div>"
   ]
  },
  {
   "cell_type": "code",
   "execution_count": null,
   "metadata": {},
   "outputs": [],
   "source": [
    "## Copy the 3 lines of code here that creates a kmeans model, finds the clusters and reports the clusterlabels\n",
    "   # constructor\n",
    "\n",
    "  #call to fit data\n",
    "\n",
    "  # call to get cluster labels for data\n",
    "\n",
    "## then put the code from activity 1.2 that makes a simple scatter plot here\n",
    "\n",
    "\n",
    "## remember to change the call to ax.scatter() to use different coloured markers for different clusters"
   ]
  },
  {
   "cell_type": "markdown",
   "metadata": {},
   "source": [
    "<div class = \"alert alert-warning\" style= \"color:black\">\n",
    "    <h2> Part 3: Making more complex visualisations with matplotlib </h2>\n",
    "    This activity is designed to give you insights into how we go about creating richer visualisations.<br>\n",
    "    Work through the cells below: in places you will need to reuse variables you created above (e.g. cluster_ids)\n",
    "    </div>\n",
    "\n",
    "The method defined below uses the power of matplotlib subplots to make a canvas (figure) containing a grid of plots (axes).  \n",
    "It 'asks' the parameter X (the data) how many features (columns) it has then uses loops to plot all the different scatter plots in a grid.\n",
    "It also takes a second parameter y to colour the  markers\n",
    "\n",
    "After defining the methods the final line calls it for the iris feature values and the cluster ids we found with the twoClusterModel.\n",
    "\n",
    "You should see that in 'interactive' mode,  panning and zooming now works independently in each subplot.  \n",
    "\n",
    "<div class = \"alert alert-warning\" style= \"color:black\">\n",
    "<h3> Activity 3.1 Showing the scatter plot matrix for your 'preferred' version of the data </h3>\n",
    "    \n",
    "Edit the code  in the cell to  experiment with different values for K (number of clusters) to find the one that you think represent the best visualisation of the data.\n",
    "    </div>\n"
   ]
  },
  {
   "cell_type": "code",
   "execution_count": null,
   "metadata": {
    "pycharm": {
     "name": "#%%\n"
    }
   },
   "outputs": [],
   "source": [
    " \n",
    "# EDIT THE NEXT LINE: to chose the value of K\n",
    "K=5\n",
    "\n",
    "# create the cluster labels\n",
    "clusterModel = KMeans(n_clusters=K)\n",
    "clusterModel.fit(irisX)\n",
    "cluster_ids = clusterModel.predict(irisX)\n",
    "\n",
    "\n",
    "def show_scatterplot_matrix(X,y,featureNames,title=None):\n",
    "    f = X.shape[1]\n",
    "    if(len(y) != X.shape[0]):\n",
    "        print(\"Error, the y array must have the same length as there are rows in X\")\n",
    "        return\n",
    "    fig, ax = plt.subplots(f,f,figsize=(12,12))\n",
    "    plt.set_cmap('jet')\n",
    "    for feature1 in range(f):\n",
    "        ax[feature1,0].set_ylabel( featureNames[feature1])\n",
    "        ax[0,feature1].set_xlabel( featureNames[feature1])\n",
    "        ax[0,feature1].xaxis.set_label_position('top') \n",
    "        for feature2 in range(f):\n",
    "            xdata = X[:,feature1]\n",
    "            ydata = X[:,feature2]\n",
    "            ax[feature1, feature2].scatter(xdata,ydata,c=y)\n",
    "\n",
    "    if title != None:\n",
    "        fig.suptitle(title,fontsize=16,y=0.925)\n",
    "\n",
    "show_scatterplot_matrix(irisX,cluster_ids,feature_names,title=\"Interactive visualisation of the Iris Data\")"
   ]
  },
  {
   "cell_type": "markdown",
   "metadata": {},
   "source": [
    "<div class = \"alert alert-warning\" style= \"color:black\">\n",
    "    <h3> Activity 3.2:  Modifying what is in some subplots</h3>\n",
    "    Change the code to show a histogram on the leading diagonal<br>\n",
    "    i.e. change <code>ax[feature1, feature2].scatter(xdata,ydata,c=y)</code> <br>\n",
    "    to <br>\n",
    "    <code>if (feature1!=feature2):\n",
    "    ax[feature1, feature2].scatter(xdata,ydata,c=y)\n",
    "else:\n",
    "    ax[feature1,feature2].hist(xdata) </code>\n",
    "\n",
    "You may need to consult [the documentation for the axis.hist() method](https://matplotlib.org/3.1.1/api/_as_gen/matplotlib.axes.Axes.hist.html?highlight=hist#matplotlib.axes.Axes.hist  )      \n",
    "</div>"
   ]
  },
  {
   "cell_type": "code",
   "execution_count": null,
   "metadata": {},
   "outputs": [],
   "source": []
  },
  {
   "cell_type": "code",
   "execution_count": null,
   "metadata": {},
   "outputs": [],
   "source": []
  },
  {
   "cell_type": "markdown",
   "metadata": {},
   "source": [
    "<div class = \"alert alert-warning\" style= \"color:black\">\n",
    "    <h3> Activity 3.3: Stretch activity for the more experienced python programmers</h3>\n",
    "It would be nice if the histograms also had different colours for different cluster labels. <br> \n",
    "To do that you need to  split the irisData into three subsets according to your clustered class labels, then either:<ul>\n",
    "<li> make three separate calls to the you could adapt code from the examples at the bottom of the matplotlib page linked above\n",
    "<li> or pass the three subsets as a list i.e. <code>ax[feature1,feature2].hist(x=(subset1,subset2,subset3))</code> </li> \n",
    "    </ul>\n",
    "    </div>"
   ]
  },
  {
   "cell_type": "markdown",
   "metadata": {},
   "source": []
  },
  {
   "cell_type": "markdown",
   "metadata": {},
   "source": []
  },
  {
   "cell_type": "markdown",
   "metadata": {},
   "source": []
  },
  {
   "cell_type": "markdown",
   "metadata": {},
   "source": [
    "<div class = \"alert alert-warning\" style= \"color:black\">\n",
    "<h2>Activity 4: Preparation for coursework </h2>\n",
    "    Make sure that you are confident in how to assemble snippets of code to: <ul>\n",
    "    <li> Read in a dataset from file (<b> HINT</b> google numpy.genfromtxt() )</li>\n",
    "    <li> Run kmeans on the data to get a set of  cluster labels for the data points</li>\n",
    "    <li> Make a 2d visualisation of the results with: <ul>\n",
    "        <li> Suitable titles and labels for axes </li>\n",
    "        <li> Different colour markers for each cluster </li>\n",
    "        </ul> </li>\n",
    "    <li> Experiment to find a suitable value for the number of clusters</li>\n",
    "    </ul>\n",
    "    When you are ready: <ol>\n",
    "    <li>put all those snippets into a single function with this signature<br>\n",
    "    <code> def cluster_and_visualise(datafilename:string, K:int, featurenames:list):</code> </li>\n",
    "    <li> Put that code into a separate file called myVisualiser.py: the cell below will help you do that</li>\n",
    "    <li> Run the simple python script in the second cell below to import that function and make sure it works</li>\n",
    "    </ol>\n",
    "    HINT: For testing, you should find you have a data folder that contains three files from the apple/orange/bananas example.<br>\n",
    "    Try using fruit_values.csv for the data. The  featurenames were listed in the week 1 lecture notebooks \n",
    "    </div>\n",
    "\n",
    "**Develop your code in the next cell**\n",
    "When you run  the next  cell it will write the contents (not including the %%writwfile line) to a file that you can submit."
   ]
  },
  {
   "cell_type": "code",
   "execution_count": null,
   "metadata": {},
   "outputs": [],
   "source": [
    "%%writefile \"myVisualiser.py\"\n",
    "import numpy as np\n",
    "import matplotlib.pyplot as plt\n",
    "from sklearn.cluster import KMeans\n",
    "def cluster_and_visualise(datafilename, K, featureNames):\n",
    "    ##your code goes here\n",
    "    pass\n"
   ]
  },
  {
   "cell_type": "markdown",
   "metadata": {},
   "source": [
    "## Use the next cell to\n",
    "- load the function from the python file you just saved\n",
    "- run it on some sampel data\n",
    "- let you compare what your code produces to the marking scheme"
   ]
  },
  {
   "cell_type": "code",
   "execution_count": null,
   "metadata": {},
   "outputs": [],
   "source": [
    "import myVisualiser \n",
    "import importlib \n",
    "importlib.reload(myVisualiser)\n",
    "\n",
    "featurenames= ( 'mean_red', 'mean_green', 'mean_blue','width', 'height', 'weight')\n",
    "datafile= 'data/fruit_values.csv'\n",
    "myVisualiser.cluster_and_visualise(datafile, 3,featurenames ) "
   ]
  },
  {
   "cell_type": "markdown",
   "metadata": {},
   "source": [
    "<div class = \"alert alert-warning\" style= \"color:black\">\n",
    "    <h2>Activity 5 (Stretch) : Understanding the role of pre-processing</h2>\n",
    "    This is an additional activity for those of you who have made rapid progress.\n",
    "    </div>"
   ]
  },
  {
   "cell_type": "markdown",
   "metadata": {},
   "source": [
    "<div class = \"alert alert-warning\" style= \"color:black\">\n",
    "    <h3> Activity 5.1: Investigate the effect of differently scaled data</h3>\n",
    " <b>First</b> we will investigate what could happen if your measurements are in different units,  so one feature has values spanning a bigger range. <ul>\n",
    "        <li> Make a copy of the iris data and convert the second  feature from cm to mm, <br> \n",
    "        You can create the version of the data using code like: <code>  irisXscaled = copy.deepcopy(irisX)</code><br>\n",
    "        Then multiply the values in one column by ten like: <code> irisXscaled [:, 1:2] *=10 </code>\n",
    "    </li>\n",
    "   <li> Rerun kMeans on the new data (for your preferred number of clusters) and visualisation to see what difference it makes <br>\n",
    "       You will need to  select some of the columns and pass them into your graphing code in the same way you did for the irisX data.</li>\n",
    "    </ul>\n",
    "</div>"
   ]
  },
  {
   "cell_type": "code",
   "execution_count": null,
   "metadata": {
    "tags": []
   },
   "outputs": [],
   "source": [
    "import copy\n",
    "# 1. put your code to change the data here (you could print the first few rows of data to see the effect of scaling)\n",
    "\n",
    "# 2. then put the four lines of code that create a kmeans object and run clustering   here - changing irisX to irisXscaled in three places\n",
    "\n",
    "# 3. then put your visualisation code here - but select x and y from irisXscaled instead of irisX"
   ]
  },
  {
   "cell_type": "markdown",
   "metadata": {
    "tags": []
   },
   "source": [
    "<div class = \"alert alert-warning\" style= \"color:black\">\n",
    "<h3> Activity 5.2: Using preprocessing so all the features have equal importance in kMeans distance calculations. </h3> \n",
    "Read the explanation below then: <ol>\n",
    "    <li> <b>Add</b> the following lines to your code to get the preprocessed data.<br>\n",
    "     <code>  scaler = sklearn.preprocessing.MinMaxScaler()\n",
    "  scaler.fit(irisX)\n",
    "  irisXnormalised = scaler.transform(irisX)</code>\n",
    "    </li>\n",
    "    <li> <b>Rerun </b> the clustering then visualisation for this normalised data and observe the difference.\n",
    "    </ol>\n",
    "    </div>\n",
    "    \n",
    "    \n",
    "  "
   ]
  },
  {
   "cell_type": "markdown",
   "metadata": {
    "tags": []
   },
   "source": [
    "  \n",
    " ### Explanation\n",
    " As well as classes for different types of models, sklearn provides many preprocessing classes.  \n",
    "Like models these implement a 'fit()' method,  but instead of `predict()' they have a 'transform()' method. \n",
    "\n",
    "A common way to make each feature equally important is to transform each one so that its values lie between 0 and 1.   \n",
    "Assuming as usual  we store our set of examples as rows in an array X, with a  column for each features.  \n",
    "For each individual feature j (column in X) it: \n",
    "- finds the highest  and lowest  values in column j of X\n",
    "- uses these to calculate  the *range* of values in the column range(X[,j]) = max(X[,j] - min(X[,j])  \n",
    "- subtracts the min(X[,j]) from each value so that they now all start from 0 and the highest value is now max(X[,j] - min(X[,j])\n",
    "- divide each value by the range(X[,j]) so the upper value  is now 1\n",
    "\n",
    "If you're feeling confident about numpy arrays and data slicing you could try implementing this your self using a loop over each column (X.shape[1]) and doing slicing making calls to numpy's min(), max() functions.  \n",
    "There's some clues here:  https://stackoverflow.com/questions/12701659/finding-range-of-a-numpy-array-elements"
   ]
  },
  {
   "cell_type": "code",
   "execution_count": null,
   "metadata": {
    "tags": []
   },
   "outputs": [],
   "source": [
    "import copy, sklearn\n",
    "# 1. put your code to change the data here (you could print the first few rows of data to see the effect of normalising)\n",
    "\n",
    "# 2. then put the four lines of code that create a kmeans object and run clustering   here - changing irisX to irisXnormalised in two plces\n",
    "\n",
    "# 3. then put your visualisation code here - but select x and y from irisXnormalised instead of irisX\n"
   ]
  },
  {
   "cell_type": "markdown",
   "metadata": {
    "tags": []
   },
   "source": [
    "**Decide for yourself which of the three sets of visualisation is clearer**  \n",
    "Having filled in and run the cell above,  run the cell below and answer the questions to check your understanding\n",
    " "
   ]
  },
  {
   "cell_type": "code",
   "execution_count": null,
   "metadata": {
    "pycharm": {
     "name": "#%%\n"
    },
    "tags": []
   },
   "outputs": [],
   "source": [
    "display(workbook6_mcq.Q5)\n",
    "display(workbook6_mcq.Q6)"
   ]
  },
  {
   "cell_type": "markdown",
   "metadata": {
    "pycharm": {
     "name": "#%% md\n"
    }
   },
   "source": [
    "<div class=\"alert alert-block alert-danger\"> Please save your work (click the save icon) then shutdown the notebook when you have finished with this tutorial (menu->file->close and shutdown notebook). <br> \n",
    "    Also remember to download and save your work.</div>\n",
    "\n",
    "\n"
   ]
  },
  {
   "cell_type": "code",
   "execution_count": null,
   "metadata": {},
   "outputs": [],
   "source": []
  }
 ],
 "metadata": {
  "kernelspec": {
   "display_name": "py10",
   "language": "python",
   "name": "py10"
  },
  "language_info": {
   "codemirror_mode": {
    "name": "ipython",
    "version": 3
   },
   "file_extension": ".py",
   "mimetype": "text/x-python",
   "name": "python",
   "nbconvert_exporter": "python",
   "pygments_lexer": "ipython3",
   "version": "3.10.6"
  }
 },
 "nbformat": 4,
 "nbformat_minor": 4
}
