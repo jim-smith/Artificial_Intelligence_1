{
 "cells": [
  {
   "cell_type": "markdown",
   "metadata": {
    "slideshow": {
     "slide_type": "slide"
    }
   },
   "source": [
    "# Knowledge representation basics 3:\n",
    "### Expert Systems\n",
    "### AIML as an example for creating knowledge bases for chatbots\n",
    "### Forward Chaining"
   ]
  },
  {
   "cell_type": "markdown",
   "metadata": {
    "slideshow": {
     "slide_type": "slide"
    }
   },
   "source": [
    "### Rule-Based Systems are often called \"Expert systems\"\n",
    " - Because they encode knowledge from a human expert, and use it to do reasoning.\n",
    "\n",
    "<img src =\"./figs/expert-system.png\" style=\"float:left\" >  \n",
    "\n",
    " - The collection of facts and rules embedded within an expert system is called the 'knowledge-base'\n",
    " - an inference engine works out which rules can fire, and then chooses between them\n",
    " - an 'explanation engine' may store the thread of reasoning"
   ]
  },
  {
   "cell_type": "markdown",
   "metadata": {
    "slideshow": {
     "slide_type": "slide"
    }
   },
   "source": [
    "### AIML: An expert system for authoring chatbot knowledge bases\n",
    "<img src =\"./figs/chatbot.png\" style=\"float:left\" >\n",
    "\n",
    "- Maintained by the ALICE foundation,now on version 2.0\n",
    "- Some criticism as overly simple,  but can create powerful chatbots\n",
    "- AIML is an XMl-based language\n",
    "\n",
    "\n",
    "Last week you should have created a simple chatbot, and examined the preprocessing part of the system\n",
    "\n",
    "This week we will focus on the simplest part of the knowledge base\n"
   ]
  },
  {
   "cell_type": "markdown",
   "metadata": {
    "slideshow": {
     "slide_type": "slide"
    }
   },
   "source": [
    "### AIML is made of rules called \"categories\""
   ]
  },
  {
   "cell_type": "markdown",
   "metadata": {
    "cell_style": "center",
    "slideshow": {
     "slide_type": "fragment"
    }
   },
   "source": [
    "Each category contains some basic parts:\n",
    "- A **pattern**:  the exact form of words that the chatbot recognises to trigger the rule, i.e.  the *condition*\n",
    "- A **template**: the output of the rule, i.e. the *action*.\n",
    "\n",
    "AIML is xml-based, so each part is started and finished with a tag pair in angled brackets e.g.  `<category> ..... </category>`\n",
    "\n",
    "An *atomic* category is one where the pattern and template are simple text.   \n",
    "- You can think of these as how you encode facts that you retrieve by querying with the appropriate question. As we'll see next week, both the pattern and the template can be richer. "
   ]
  },
  {
   "cell_type": "code",
   "execution_count": 2,
   "metadata": {
    "cell_style": "center",
    "slideshow": {
     "slide_type": "slide"
    }
   },
   "outputs": [
    {
     "name": "stdout",
     "output_type": "stream",
     "text": [
      "Overwriting data/fruit.aiml\n"
     ]
    }
   ],
   "source": [
    "%%writefile \"data/fruit.aiml\"\n",
    "<aiml>\n",
    "\n",
    "<category>\n",
    "    <pattern> DESCRIBE APPLES</pattern>\n",
    "    <template> Apples are round fruit with smooth green skin</template>\n",
    "</category>\n",
    "\n",
    "<category>\n",
    "  <pattern> IS MY FRUIT AN APPLE</pattern>\n",
    "  <template> Is your fruit round and green and smooth?</template>\n",
    "</category>\n",
    "    \n",
    "<category>\n",
    "    <pattern>MY FRUIT IS ROUND AND GREEN AND SMOOTH</pattern>\n",
    "    <template> Your fruit is an apple </template>\n",
    "</category>\n",
    "</aiml>"
   ]
  },
  {
   "cell_type": "code",
   "execution_count": 3,
   "metadata": {
    "cell_style": "center",
    "slideshow": {
     "slide_type": "slide"
    }
   },
   "outputs": [
    {
     "name": "stdout",
     "output_type": "stream",
     "text": [
      "Loading data/fruit.aiml...done (0.00 seconds)\n",
      "Successfully loaded 3 categories\n"
     ]
    },
    {
     "name": "stdout",
     "output_type": "stream",
     "text": [
      "\n",
      "\n",
      "\n",
      "\n",
      "\n",
      "\n",
      "\n",
      "\n",
      "\n",
      "\n",
      "\n",
      "\n",
      "\n",
      "\n",
      "\n",
      "\n",
      "\n",
      "\n",
      "\n",
      "\n",
      "\n",
      "\n",
      "\n",
      "\n",
      "\n",
      "\n",
      "\n",
      "\n",
      "\n",
      "\n",
      "\n",
      "\n"
     ]
    }
   ],
   "source": [
    "import aiml\n",
    "\n",
    "# Create the kernel and learn AIML files\n",
    "myChatbot = aiml.Kernel()\n",
    "myChatbot.learn(\"data/fruit.aiml\")\n",
    "myChatbot.verbose(True)\n",
    "print( \"Successfully loaded {} categories\".format(myChatbot.numCategories()))\n",
    "\n",
    "#type  bye to end the chat session\n",
    "keepGoing = True\n",
    "while keepGoing:\n",
    "    nextInput = input(\"Enter your message >> \")\n",
    "    if(nextInput == 'bye'):\n",
    "        keepGoing = False\n",
    "    else:\n",
    "        print (myChatbot.respond(nextInput))"
   ]
  },
  {
   "cell_type": "markdown",
   "metadata": {
    "slideshow": {
     "slide_type": "slide"
    }
   },
   "source": [
    "### Forward Chaining you could definely talk about how this is like decision trees\n",
    "<img style=\"float:right\" src=\"figs/forward-chaining.png\" width=600>  \n",
    "\n",
    "<div style=\"float:left width=400\">\n",
    "<b>Data-driven</b> discovery of knowledge.\n",
    "    <ol>\n",
    "        <li> <b>Initialise</b> knowledge-set with any long-term facts</li>\n",
    "        <li> <b>Add</b> assertions derived from observations</li>\n",
    "     <li> <b>Find the match-set</b> of rules <br> whose conditions are met by the current short term knowledge</li>\n",
    "        <li> <b>While</b> (match-set is not empty and decision is not reached):\n",
    "            <ol> <li> <b>Rank</b> match-set using domain-specific rule precedence.</li>\n",
    "                <li> <b>Select</b> highest ranked rule from the  match-set </li>\n",
    "                <li><b>Apply</b> the chosen  rule, which might let you: <br> \n",
    "   assert new short-term knowledge (facts) directly  <br>\n",
    "                    ask questions to get new knowledge from the user  </li>\n",
    "                <li><b>Add</b> inferences to current set of shore term knowledge</li>\n",
    "                <li> <b>Find</b> the new match-set. </li></ol>\n",
    "<li> Output result</li>\n",
    " </ol>                                                </div>"
   ]
  },
  {
   "cell_type": "markdown",
   "metadata": {
    "slideshow": {
     "slide_type": "slide"
    }
   },
   "source": [
    "### How does this work in AIML?\n",
    "Using a **`<srai>`** tag-pair within a template lets you infer new things by asserting that two inputs are equivalent: IF A <=> B and B=>C  THEN   A=>C\n",
    "\n",
    "For example, \n",
    "- IF (input *matches* \"tell me about Apples\")  \n",
    "  AND (\"tell me about Apples\" *is equivalent to* \"Describe Apples\")  \n",
    "  THEN output(response to \"Describe Apples\")\n",
    "- or to put it another way it lets us say:  \n",
    "  (\"tell me about apples\" == True) => (\"Describe Apples\" ==True)\n",
    "\n",
    "I'm using the symbol => to stand for \"implies\""
   ]
  },
  {
   "cell_type": "code",
   "execution_count": null,
   "metadata": {
    "slideshow": {
     "slide_type": "slide"
    }
   },
   "outputs": [],
   "source": [
    "%%writefile \"data/fruitlanguage.aiml\"\n",
    "<aiml>\n",
    "<category>\n",
    "    <pattern> TELL ME ABOUT APPLES</pattern>\n",
    "    <template> <srai> DESCRIBE APPLES</srai> </template>\n",
    "</category>\n",
    "</aiml>"
   ]
  },
  {
   "cell_type": "code",
   "execution_count": null,
   "metadata": {
    "slideshow": {
     "slide_type": "fragment"
    }
   },
   "outputs": [],
   "source": [
    "myChatbot.learn(\"data/fruitlanguage.aiml\")\n",
    "nextInput = input(\"Enter your message >> \")\n",
    "print (myChatbot.respond(nextInput))"
   ]
  },
  {
   "cell_type": "markdown",
   "metadata": {},
   "source": []
  },
  {
   "cell_type": "markdown",
   "metadata": {
    "slideshow": {
     "slide_type": "slide"
    }
   },
   "source": [
    "### Notes\n",
    "1. this example is long-term information about language:\n",
    " - that that two ways of asking a question are true.    \n",
    " - You could argue that it is 'more' generic in that it might apply to several different chatbots\n",
    "2. This week's practical session will get you using &lt;srai&gt; tags\n",
    "3. Next week we'll look at:\n",
    "     - how to make knowledge about language more generic using wildcards\n",
    "     - other ways of doing forward chaining in AIML by creating new variables to store short term knowlege"
   ]
  }
 ],
 "metadata": {
  "celltoolbar": "Slideshow",
  "kernelspec": {
   "display_name": "Python 3 (ipykernel)",
   "language": "python",
   "name": "python3"
  },
  "language_info": {
   "codemirror_mode": {
    "name": "ipython",
    "version": 3
   },
   "file_extension": ".py",
   "mimetype": "text/x-python",
   "name": "python",
   "nbconvert_exporter": "python",
   "pygments_lexer": "ipython3",
   "version": "3.11.6"
  }
 },
 "nbformat": 4,
 "nbformat_minor": 4
}
