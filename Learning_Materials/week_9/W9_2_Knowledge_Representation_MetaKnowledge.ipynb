{
 "cells": [
  {
   "cell_type": "markdown",
   "metadata": {
    "slideshow": {
     "slide_type": "slide"
    }
   },
   "source": [
    "# Knowledge Representation Basics: meta-knowledge\n",
    "\n",
    "Meta-knowledge is \"knowledge about knowledge\"\n",
    "\n",
    "We'll mostly consider two particular forms:\n",
    "\n",
    "1: Knowledge about relationships\n",
    " - which can be used for reasoning\n",
    "\n",
    "2: Knowlege about when the axioms and rules are valid, and how long for\n",
    " - which we can use to decide how to store it"
   ]
  },
  {
   "cell_type": "markdown",
   "metadata": {
    "cell_style": "center",
    "slideshow": {
     "slide_type": "slide"
    }
   },
   "source": [
    "#### Some kinds of knowledge about relationships\n",
    "Let's imagine we are talking about where fruit are    by using the relationship `X _hasGeoCoordinates_  Y`"
   ]
  },
  {
   "cell_type": "markdown",
   "metadata": {
    "cell_style": "split",
    "slideshow": {
     "slide_type": "fragment"
    }
   },
   "source": [
    "- *Domains*: what can be on the left hand side (X)\n",
    "  - **physical things** (e.g. individual fruits), have GeoCo-ordinates\n",
    "  - virtual things and abstract types do not\n",
    "- *Ranges*: what can be on the right hand side (Y)\n",
    "  - GPS positions are **pairs of floats** standing for latitude and longitude\n",
    "  - e.g. my office is 51.502010, -2.549075\n",
    "- *Cardinalities*: \n",
    "  - my lunchtime orange is in my office\n",
    "  - but there could be  other fruit in there\n",
    "  - **many-to-one**"
   ]
  },
  {
   "cell_type": "markdown",
   "metadata": {
    "cell_style": "split",
    "slideshow": {
     "slide_type": "slide"
    },
    "tags": []
   },
   "source": [
    "### some more\n",
    "- *Symmetry*: \n",
    "  - every thing has to  be somewhere\n",
    "  - but some places might be empty\n",
    "- *Sub-class relationships*:\n",
    "  - apples and oranges are both types of fruit\n",
    "  - 'Bramley' is a type of apple\n",
    "- *Disjunction*: (logical XOR)\n",
    "  - a fruit is an orange or an apple but not both\n",
    "- *Transitive*: \n",
    "  - **'mass' is transitive**\n",
    "  - (limes < apples) and  (apples < oranges)   \n",
    "    => limes < oranges\n",
    " - **'knows' is not transitive**\n",
    "   - I know her and  she knows him      \n",
    "     does not imply I know him\n",
    "\n",
    "\n"
   ]
  },
  {
   "cell_type": "markdown",
   "metadata": {
    "slideshow": {
     "slide_type": "slide"
    }
   },
   "source": [
    "## To find out more about how we use meta-knowlege all the time when we solve problems as humans watch the seperate video\n"
   ]
  },
  {
   "cell_type": "markdown",
   "metadata": {
    "cell_style": "split",
    "slideshow": {
     "slide_type": "slide"
    }
   },
   "source": [
    "### Ontologies are collections of meta-knowledge\n",
    "- Basis of the _semantic web_. \n",
    "- ///RDF/// what does rdf stand for /// triples: < object predicate subject>\n",
    "- Each of the 3 parts must be uniquely defined\n",
    "- Allows automated reasoning\n",
    "- e.g. schema.org specifies the markup for websites,that is then used by Google, Microsoft etc. \n",
    " \n",
    "NB there's a current debate about whether schema.org should include *fruit*, - as a subtype of *product* -  itself a sub-type of *thing*  \n",
    "But for now they can be specified via reference to http://www.productontology.org \n",
    " \n",
    "Another really useful ontology is Wordnet (https://wordnet.princeton.edu)."
   ]
  },
  {
   "cell_type": "markdown",
   "metadata": {
    "cell_style": "split",
    "slideshow": {
     "slide_type": "fragment"
    }
   },
   "source": [
    "\n",
    "<img src= \"figs/Semantic_web_stack.png\"  width = \"200\" height= \"300\" >\n",
    "<img src= \"figs/schema.org-screenshot.png\">\n",
    "\n"
   ]
  },
  {
   "cell_type": "markdown",
   "metadata": {
    "cell_style": "split",
    "slideshow": {
     "slide_type": "slide"
    }
   },
   "source": [
    "### Other types of knowlege about knowledge\n",
    "More implicit e.g.\n",
    "\n",
    "**Long-Term:** \n",
    "- always true,   \n",
    "  -  e.g. rules about fruit, vision system for recognising 'roundness'\n",
    "  - so store in files and reload every time you start the application.\n",
    " \n",
    "**Short-term:**\n",
    "- relates to objects/properties of *this* situation *now*\n",
    "  - e.g. \"this fruit\", \"current weather\",...\n",
    "  - so tend to hold in run-time variables but not permanent storage "
   ]
  },
  {
   "cell_type": "markdown",
   "metadata": {
    "cell_style": "split",
    "slideshow": {
     "slide_type": "slide"
    }
   },
   "source": [
    "**Generic:**\n",
    "-  holds true in lots of different applications\n",
    "   - e.g. physics engines in games/robotics/engineering simulations, wordnet,schema.org ...\n",
    "- generic knowlege tends to be stored where it can be reused \n",
    "  - i.e. locally in libraries, or on websites,  \n",
    "    depending on how quickly you need to access it\n",
    " \n",
    " \n",
    "Domain-specific:\n",
    "- specific to an application or a scenario\n",
    "  - e.g.  file \"myFirstChatbot.aiml\" from the tutorials\n",
    "- So you store within a local directory, or the application directly,   \n",
    "  or  in system directories"
   ]
  },
  {
   "cell_type": "markdown",
   "metadata": {
    "slideshow": {
     "slide_type": "slide"
    }
   },
   "source": [
    "## Summary of part 2:\n",
    "1: Meta-knowledge harnesses long-term generic and domain-specific knowledge.\n",
    " - To enrich the reasoning we can do.\n",
    " - Without having to keep explicilty rewriting lots of rules etc.\n",
    "\n",
    "\n",
    "2: Thinking about whether knowledge is long-vs. short term,  generic vs. specific helps us reuse knowledge\n",
    " - Reduces errors\n",
    " - Allows automated reasoning\n",
    " - Saves time developing applications\n"
   ]
  }
 ],
 "metadata": {
  "celltoolbar": "Slideshow",
  "kernelspec": {
   "display_name": "Python 3 (ipykernel)",
   "language": "python",
   "name": "python3"
  },
  "language_info": {
   "codemirror_mode": {
    "name": "ipython",
    "version": 3
   },
   "file_extension": ".py",
   "mimetype": "text/x-python",
   "name": "python",
   "nbconvert_exporter": "python",
   "pygments_lexer": "ipython3",
   "version": "3.10.8"
  }
 },
 "nbformat": 4,
 "nbformat_minor": 4
}
