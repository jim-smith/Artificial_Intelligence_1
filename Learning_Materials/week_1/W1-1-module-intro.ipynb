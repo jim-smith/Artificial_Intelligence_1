{
 "cells": [
  {
   "cell_type": "markdown",
   "metadata": {
    "cell_style": "center",
    "slideshow": {
     "slide_type": "slide"
    },
    "tags": []
   },
   "source": [
    "# Artificial Intelligence I\n",
    "### Introduction by Jim Smith,  \n",
    "<img src=\"figs/jim-bw.jpg\" alt= \"Headshot of Jim.\" style=\"float:right;width:300px\"/>\n",
    "\n",
    "- Professor in Interactive AI\n",
    "  - time ~50:50 split between teaching/  research projects\n",
    "- Module Leader for AI 1 and Advanced AI (final year)\n",
    "- Led design of the AI pathway"
   ]
  },
  {
   "cell_type": "markdown",
   "metadata": {
    "cell_style": "center",
    "slideshow": {
     "slide_type": "slide"
    }
   },
   "source": [
    "<img src=\"figs/bookCover.jpg\" style=\"float:right; width:200px\" alt= \"Cover of Jim's textbook\"></img>\n",
    "## A bit about me\n",
    "*  1st degree Cambridge 1980s\n",
    "* 6 years away from academia\n",
    "* MSc. then PhD at UWE\n",
    "* 25 years researching & teaching AI\n",
    "\n",
    "### Current research interests:\n",
    "- Privacy and AI: How do we assess the risk that AI models  *leak* the data they were trained on.\n",
    "- Systems that learn how to learn\n",
    "- Human-AI collaboration\n",
    "\n",
    "\n"
   ]
  },
  {
   "cell_type": "markdown",
   "metadata": {
    "cell_style": "center",
    "slideshow": {
     "slide_type": "slide"
    },
    "tags": []
   },
   "source": [
    "## Dr Nathan Duran\n",
    "* BSc Computer Science UWE, 2017\n",
    "* Final Year Project with me: crowd-sourced AI\n",
    "  for detecting exo-planets\n",
    "* PhD 2023: AI for conversational analysis \n",
    "<img src=\"figs/NathanDuran.jpg\" style=\"float:right; size:200px\"/>"
   ]
  },
  {
   "cell_type": "markdown",
   "metadata": {
    "slideshow": {
     "slide_type": "slide"
    }
   },
   "source": [
    "# Learning Outcomes\n",
    "1. Apply the basic concepts, uses and processes of AI to new tasks, identifying: the type of problem; what technologies or algorithms would be appropriate to apply; and suitable representations for candidate solutions.  \n",
    "  \n",
    "2. Recognise the differences between “Knowledge-based” paradigms of AI (inspired by the mind) and “Computational Intelligence” (e.g. inspired by the brain), and select appropriate paradigms according to the needs of a specific problem or application. \n",
    "3. Identify potential legal and ethical issues - such as privacy and unintentional bias- associated with the deployment of AI-based systems, and suggest actions to mitigate undesirable effects. \n",
    "4. Design and implement basic optimisation, expert system and machine learning systems. "
   ]
  },
  {
   "cell_type": "markdown",
   "metadata": {
    "cell_style": "center",
    "slideshow": {
     "slide_type": "slide"
    }
   },
   "source": [
    "# What we'll be covering\n",
    "### Week1:\n",
    "\n",
    "<img src=\"figs/input-model-output.png\" style=\"float:right; width:400px\"/>\n",
    "\n",
    "* Three basic types of problem\n",
    " * Symbolic vs. Computational AI \n",
    " \n",
    "<div class=\"alert alert-block alert-warning\" style=\"color:black;width:400px\">\n",
    "    <b>Practical:</b> your first jupyter notebook.<br>\n",
    "    This workbook is part of your assessed portfolio.\n",
    "</div>\n",
    " \n"
   ]
  },
  {
   "cell_type": "markdown",
   "metadata": {
    "cell_style": "center",
    "slideshow": {
     "slide_type": "slide"
    },
    "tags": []
   },
   "source": [
    "### Topic 1: Search (weeks 2-4)\n",
    "<img src=\"figs/pacman-routefinding.png\" alt= \"image of pacman executing depth-first search\" style=\"width:400px;  float:right\">.</img>\n",
    "* Problem solving as search\n",
    "* Common framework,\n",
    "* Recognising properties of algorithms and problems\n",
    "* constructing a solution vs changing one\n",
    "* decision problems vs optimisation\n",
    "\n",
    "<div class=\"alert alert-block alert-warning\" style=\"width:400px;color:black\"> <b>Practicals:</b><br>\n",
    "    Implementing and selecting appropriate search algorithms<br>\n",
    "    for a range of tasks and contexts.<br>\n",
    "<br>\n",
    "    The week 3 workbook is part of your assessed portfolio.</div>"
   ]
  },
  {
   "cell_type": "markdown",
   "metadata": {
    "cell_style": "center",
    "slideshow": {
     "slide_type": "slide"
    },
    "tags": []
   },
   "source": [
    " ### Topic 2: Machine Learning (weeks 5-8)\n",
    " <img src=\"figs/MachineLearningDiagram.png\" alt= \"Example applications for types of machine learning\" style=\"width:400px;float:right\">example applications for types of machine learning.</img>\n",
    " * Types of Machine Learning\n",
    " * Ethical and legal issues \n",
    " * Supervised Machine Learning\n",
    "   * train-test workflow\n",
    "   * Common ML models\n",
    "   * Artificial Neural Networks\n",
    "\n",
    "<div class=\"alert alert-block alert-warning\" style=\"width:400px;color:black\"> <b>Practicals:</b><br> Creating interactive visualisations. <br>  Learning and comparing predictive models using different algorithms.<br>\n",
    "<br>\n",
    "    The workbooks for weeks 5 and 8 are part of your assessed portfolio.</div>"
   ]
  },
  {
   "cell_type": "markdown",
   "metadata": {
    "cell_style": "center",
    "slideshow": {
     "slide_type": "slide"
    },
    "tags": []
   },
   "source": [
    " ### Topic 3: Representing Knowledge (weeks 2-5)\n",
    "\n",
    "<img src=\"figs/kbs.png\" style=\"width:400px;float:right\"/>\n",
    "\n",
    "* How to represent, store, and manipulate/use human knowledge\n",
    "* types of knowledge and reasoning\n",
    "* components of knowledge-based systems\n",
    "* modern knowledge based systems (Semantic Web)\n",
    "* Illustrated using the chatbot authoring language AIML\n",
    "\n",
    "\n",
    "<div class=\"alert alert-block alert-warning\" style=\"width:400px;color:black\"> <b>Practicals:</b><br> Creating your own chatbots<br>\n",
    "and linking them to search engines.<br>\n",
    "The final part of your assessed portfolio is based on weeks 9 and 10.</div>\n"
   ]
  },
  {
   "cell_type": "markdown",
   "metadata": {
    "slideshow": {
     "slide_type": "skip"
    }
   },
   "source": [
    "## How this fits in with the rest of the degree\n",
    "Overall ethos: giving you the skills to undertake AI based projects\n",
    "* __Artificial Intelligence 1__: fluency in the basic ideas and tools of AI.\n",
    "* __Artificial Intelligence 2__: More advanced search algorithms and Machine Learning \n",
    "* __Machine Learning__:  what it says ...\n",
    "* __Security, Data Analytics & Visualisation__ : exploring data, linking to ML algorithms to interactive visualisations\n",
    "* __Autonomous Agents and Multi-Agent Systems__: designing complex deliberate agents to work together \n",
    "* __Advanced Artificial Intelligence__: latest advances, dealing with complex problems"
   ]
  },
  {
   "cell_type": "markdown",
   "metadata": {
    "slideshow": {
     "slide_type": "slide"
    }
   },
   "source": [
    "# How we will teach this course: \n",
    "\n",
    "- **Acquisition: To help you learn by reading/ watching**  \n",
    "  Each week there are 3 or 4 pre-recorded videos for you to watch in advance.  \n",
    "  None of these are more than 20 minutes long.  \n",
    "\n",
    "- **Timetabled Fortnightly Online Lectorial: To help you learn through interactions with others**  \n",
    "  Interactive online sessions with quizzes and chat covering that week's key concepts.  \n",
    "  Your opportunity to ask your questions on that week's materials.\n",
    "\n",
    "- **Timetabled 2 hour lab session: To help you learn through practice**  \n",
    "  Workbooks of   practical  activities around week's concepts.  \n",
    "  Each workbook contains a mixture of  coding exercises and multiple choice questions\n",
    "\n",
    "- **Self study each week: To complete your learning through activities**  \n",
    "  Complete practical workbook and submit for marking.  \n",
    "  Watch materials for next week's  lecturial\n",
    "\n",
    "\n"
   ]
  },
  {
   "cell_type": "markdown",
   "metadata": {
    "slideshow": {
     "slide_type": "slide"
    }
   },
   "source": [
    "<div class = \"alert alert-block alert-info\">\n",
    "    <h2>Assessment: Submission of portfolio of workbooks</h2>\n",
    "    <ul>\n",
    "        <li><strong>Learning through practice</strong></li>\n",
    "        <li> Most weeks there is a workbook to complete.</li>\n",
    "        <li> Five (5) of these should be submitted for marking when complete.</li>\n",
    "        <li>Your mark will be the average of your **4** best scores.</li>\n",
    "        <li> submit <5 and we will assume zero marks for missing notebooks </li>\n",
    "        <li>each notebook will let you test your work before you submit.</li>\n",
    "    </ul>\n",
    "            <h3>Online submission system for workbooks:</h3>\n",
    "    <ul><li> Automatically marks your work and provides feedback</li> <li>Available 24/7, and you get several attempts.</li> </ul> </div>"
   ]
  },
  {
   "cell_type": "markdown",
   "metadata": {
    "slideshow": {
     "slide_type": "slide"
    }
   },
   "source": [
    "# How we will teach this course 2: Tools\n",
    "**Blackboard:** to host all materials,  self-assessment tests, links to videos and marking systems\n",
    "\n",
    "**Course will be taught in python**\n",
    "- 'language of choice' for ML\n",
    "- good open-source libraries\n",
    "- build on the *toolbox* of skills you learned in Principles of Programming\n",
    " "
   ]
  },
  {
   "cell_type": "markdown",
   "metadata": {
    "editable": true,
    "slideshow": {
     "slide_type": "slide"
    },
    "tags": []
   },
   "source": [
    "## All the lectures and tutorials will use Jupyter Notebooks\n",
    "- will run within VSCode on your own device if you want\n",
    "  - we can help you install a 'virtual environment' with the right libraries  \n",
    "- or you can run on the cloud server we're providing  \n",
    "  **JupyterHub Server csctcloud.uwe.ac.uk** \n",
    "- Hosting all the Jupyter notebooks for the lectorials and weekly workbooks. \n",
    "- Accessed by a web browser from any pc or laptop.\n",
    "- Provides a consisent  experience for you to  develop and run code."
   ]
  },
  {
   "cell_type": "code",
   "execution_count": 10,
   "metadata": {
    "cell_style": "center",
    "editable": true,
    "slideshow": {
     "slide_type": "fragment"
    },
    "tags": []
   },
   "outputs": [
    {
     "name": "stdout",
     "output_type": "stream",
     "text": [
      "Because I can change the code live   ...?\n"
     ]
    }
   ],
   "source": [
    "\n",
    "print ('Because I can change the code live   ...?')\n"
   ]
  },
  {
   "cell_type": "code",
   "execution_count": null,
   "metadata": {
    "editable": true,
    "slideshow": {
     "slide_type": ""
    },
    "tags": []
   },
   "outputs": [],
   "source": []
  }
 ],
 "metadata": {
  "celltoolbar": "Slideshow",
  "kernelspec": {
   "display_name": "Python 3 (ipykernel)",
   "language": "python",
   "name": "python3"
  },
  "language_info": {
   "codemirror_mode": {
    "name": "ipython",
    "version": 3
   },
   "file_extension": ".py",
   "mimetype": "text/x-python",
   "name": "python",
   "nbconvert_exporter": "python",
   "pygments_lexer": "ipython3",
   "version": "3.11.6"
  }
 },
 "nbformat": 4,
 "nbformat_minor": 4
}
