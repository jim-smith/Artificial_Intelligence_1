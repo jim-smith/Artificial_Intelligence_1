{
 "cells": [
  {
   "cell_type": "markdown",
   "id": "7e1aa208-4adb-4d5a-94a7-fc8794f07fbb",
   "metadata": {},
   "source": [
    "<div class=\"alert alert-block alert-success\" style=\"color:black\">\n",
    "    <h1>Self-Checker Notebook: workbook1</h1>\n",
    "<p> When you have completed workbook1 it should produce a file called <code>student_wb1.py</code> in the folder <code>studentcode</code></p>\n",
    "    <p>Run the code cells in notebook to check your code for syntax errors <b>before you submit to the marking server</b></p>\n",
    "    <p> This will help you avoid wasting submission attemopts</p>\n",
    "</div>"
   ]
  },
  {
   "cell_type": "markdown",
   "id": "b2e73fe5-a3b6-4375-8fe6-05dda63f59c3",
   "metadata": {},
   "source": [
    "### Run next cell to set up code imports"
   ]
  },
  {
   "cell_type": "code",
   "execution_count": null,
   "id": "201a0c7f-a6ec-4039-882f-2d361e881918",
   "metadata": {},
   "outputs": [],
   "source": [
    "#import your code\n",
    "from sys import path\n",
    "\n",
    "\n",
    "# telling python where to find the checking code things\n",
    "for directory in (\"../common\", \"studentcode\"):\n",
    "    if directory not in path:\n",
    "        path.append(directory)\n",
    "\n",
    "# functions common to all these notebooks\n",
    "import importcheck \n",
    "from bannedwords import check_for_banned_words\n",
    "\n",
    "\n",
    "# things specific to this notebook\n",
    "from approvedimports import *\n",
    "from wb1_selfcheck import *\n",
    "\n"
   ]
  },
  {
   "cell_type": "markdown",
   "id": "e202d3b8-2934-4333-9f84-43489e2a81f8",
   "metadata": {},
   "source": [
    "## Run this cell to check for syntax errors that could prevent your code from being imported \n",
    "<div style=\"background:lightblue\"><h3>There's no point moving on until your code passes this check.</h3></div>"
   ]
  },
  {
   "cell_type": "code",
   "execution_count": null,
   "id": "cac3d3e8-0843-4b99-aafd-2887c0ad464c",
   "metadata": {},
   "outputs": [],
   "source": [
    "ok, message = importcheck.check_code_syntax(\"student_wb1\")\n",
    "if(ok):\n",
    "    print('Syntax seems to be ok')\n",
    "else:\n",
    "    print(message)"
   ]
  },
  {
   "cell_type": "markdown",
   "id": "b9626f5d-e080-4f07-ab7c-20942c364784",
   "metadata": {},
   "source": [
    "## Run this cell to check all the required functions are present in your file\n",
    "- This cell will check whether your code contains all the required functions.\n",
    "\n",
    "- You may, if you wish, submit without attempting all the marked activities.\n",
    "\n",
    "- However, ** those functions need to be present**.\n",
    "\n",
    "- So you still need to run the cells that write the incomplete *boilerplate* code to your file"
   ]
  },
  {
   "cell_type": "code",
   "execution_count": null,
   "id": "7d6eafe0-26dc-4549-8ce4-a08f7dca9c94",
   "metadata": {},
   "outputs": [],
   "source": [
    "thename= 'student_wb1'\n",
    "funcs= ['exhaustive_search_4tumblers',\n",
    "        'get_names',\n",
    "        'check_sudoku_array'\n",
    "       ]\n",
    "\n",
    "for funcname in funcs:\n",
    "    ok, message=importcheck.test_for_presence(thename,funcname)\n",
    "    print(message)"
   ]
  },
  {
   "cell_type": "markdown",
   "id": "ef7bbf7e-4ac2-4484-aaa3-fb52fd940581",
   "metadata": {},
   "source": [
    "## Run the next cell to check for banned words\n",
    "<div style=\"background:lightpink\"><h3>The System will refuse to accept your code if banned words are present</h3></div>"
   ]
  },
  {
   "cell_type": "code",
   "execution_count": null,
   "id": "45a1ccb5-0291-47dd-960d-d0772d47aa97",
   "metadata": {},
   "outputs": [],
   "source": [
    "check_for_banned_words(\"studentcode/student_wb1.py\")"
   ]
  },
  {
   "cell_type": "markdown",
   "id": "59af69f3-3365-4443-b826-11de97e4170f",
   "metadata": {},
   "source": [
    "## Run this last cell to test your code\n",
    "\n",
    "For self checking, the scores for each of your functions are as follows:\n",
    "- 2 if it runs ok and produces the correct result for a single test case.\n",
    "- 1 if it runs ok but produces the incorrect result for a single test case.\n",
    "- 0 if it does not run with our testing code.\n",
    "\n",
    "The marking server uses different (and more) test cases."
   ]
  },
  {
   "cell_type": "code",
   "execution_count": null,
   "id": "9d6fe302-22b1-469d-a770-0821879ef320",
   "metadata": {},
   "outputs": [],
   "source": [
    "score,feedback= MarkingFunction(\"student_wb1.py\")\n",
    "\n",
    "print(f'Your code scores {score} out of 6 on the self checker')\n",
    "\n",
    "from IPython.display import display, HTML\n",
    "display(HTML(feedback))"
   ]
  },
  {
   "cell_type": "code",
   "execution_count": null,
   "id": "212a6026-2816-43b5-9c74-92b095bf3abe",
   "metadata": {},
   "outputs": [],
   "source": []
  }
 ],
 "metadata": {
  "kernelspec": {
   "display_name": "aienv",
   "language": "python",
   "name": "aienv"
  },
  "language_info": {
   "codemirror_mode": {
    "name": "ipython",
    "version": 3
   },
   "file_extension": ".py",
   "mimetype": "text/x-python",
   "name": "python",
   "nbconvert_exporter": "python",
   "pygments_lexer": "ipython3",
   "version": "3.11.13"
  }
 },
 "nbformat": 4,
 "nbformat_minor": 5
}
